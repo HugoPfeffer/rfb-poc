{
 "cells": [
  {
   "cell_type": "code",
   "execution_count": null,
   "metadata": {},
   "outputs": [],
   "source": [
    "# %%\n",
    "import numpy as np\n",
    "from scipy.stats.mstats import winsorize\n",
    "import scipy.stats as stats"
   ]
  },
  {
   "cell_type": "code",
   "execution_count": null,
   "metadata": {},
   "outputs": [],
   "source": [
    "class InvestmentsGenerator:\n",
    "    def __init__(self, mean_return=0.24, std_dev=0.10, sample_size=1000):\n",
    "        \"\"\"\n",
    "        Initialize the InvestmentsGenerator with default parameters.\n",
    "        \n",
    "        Args:\n",
    "            mean_return (float): Expected mean annual return (default: 0.24 or 24%)\n",
    "            std_dev (float): Standard deviation of returns (default: 0.10 or 10%)\n",
    "            sample_size (int): Number of samples to generate (default: 1000)\n",
    "        \"\"\"\n",
    "        self.mean_return = mean_return\n",
    "        self.std_dev = std_dev\n",
    "        self.sample_size = sample_size\n",
    "        \n",
    "    def generate_basic_returns(self):\n",
    "        \"\"\"Generate basic synthetic returns using normal distribution.\"\"\"\n",
    "        return np.random.normal(loc=self.mean_return, \n",
    "                              scale=self.std_dev, \n",
    "                              size=self.sample_size)\n",
    "    \n",
    "    def clean_data(self, data, limits=[0.01, 0.01]):\n",
    "        \"\"\"\n",
    "        Winsorize data to remove extreme outliers.\n",
    "        \n",
    "        Args:\n",
    "            data (np.array): Input data to clean\n",
    "            limits (list): Lower and upper percentile limits for winsorization\n",
    "        \"\"\"\n",
    "        return winsorize(data, limits=limits)\n",
    "    \n",
    "    def generate_with_crisis(self, crisis_prob=0.1):\n",
    "        \"\"\"\n",
    "        Generate returns with varying volatility to simulate crisis periods.\n",
    "        \n",
    "        Args:\n",
    "            crisis_prob (float): Probability of crisis periods (default: 0.1)\n",
    "        \"\"\"\n",
    "        crisis_periods = np.random.choice(\n",
    "            [self.std_dev, self.std_dev * 3],  # Normal and crisis volatility\n",
    "            size=self.sample_size,\n",
    "            p=[1 - crisis_prob, crisis_prob]\n",
    "        )\n",
    "        return np.random.normal(loc=self.mean_return, scale=crisis_periods)"
   ]
  }
 ],
 "metadata": {
  "language_info": {
   "codemirror_mode": {
    "name": "ipython",
    "version": 3
   },
   "file_extension": ".py",
   "mimetype": "text/x-python",
   "name": "python",
   "nbconvert_exporter": "python",
   "pygments_lexer": "ipython3",
   "version": 3
  }
 },
 "nbformat": 4,
 "nbformat_minor": 2
}

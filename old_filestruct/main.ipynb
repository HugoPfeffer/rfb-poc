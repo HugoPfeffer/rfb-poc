{
 "cells": [
  {
   "cell_type": "code",
   "execution_count": 1,
   "metadata": {},
   "outputs": [],
   "source": [
    "from faker import Faker\n",
    "from providers.industriaProvider import industriaProvider\n",
    "import pandas as pd\n",
    "import random\n",
    "import numpy as np\n",
    "from scipy.stats.mstats import winsorize\n",
    "\n"
   ]
  },
  {
   "cell_type": "code",
   "execution_count": 2,
   "metadata": {},
   "outputs": [],
   "source": [
    "fake = Faker('pt_BR')"
   ]
  },
  {
   "cell_type": "code",
   "execution_count": 3,
   "metadata": {},
   "outputs": [],
   "source": [
    "fake.add_provider(industriaProvider)"
   ]
  },
  {
   "cell_type": "code",
   "execution_count": 4,
   "metadata": {},
   "outputs": [],
   "source": [
    "def create_rows(num=1):\n",
    "    output = [{\"name\":fake.name(),\n",
    "                \"Endereço\":fake.address(),\n",
    "                \"Nome\":fake.name(),\n",
    "                \"CPF\":fake.cpf(),\n",
    "                \"Setor de Trabalho\":(setor := fake.industria()),  # Get the sector first\n",
    "                \"Nivel\":(nivel := fake.nivel()),\n",
    "                \"Faixa Salarial\":fake.range_salarial(setor=setor),  # Pass the sector to range_salarial\n",
    "                \"Nascimento\":fake.date_of_birth(minimum_age=18, maximum_age=65).strftime('%d/%m/%Y'),\n",
    "                \"Placa\":fake.license_plate(),\n",
    "                \"RENAVAM\":fake.vin(),\n",
    "                \"randomdata\":random.randint(1000,2000)} for x in range(num)]\n",
    "    return output"
   ]
  },
  {
   "cell_type": "code",
   "execution_count": 5,
   "metadata": {},
   "outputs": [
    {
     "data": {
      "text/plain": [
       "[{'name': 'Cecília Leão',\n",
       "  'Endereço': 'Sítio da Cunha\\nMirtes\\n35035217 Santos / SP',\n",
       "  'Nome': 'Murilo Pires',\n",
       "  'CPF': '761.304.985-00',\n",
       "  'Setor de Trabalho': 'Saúde',\n",
       "  'Faixa Salarial': 158297,\n",
       "  'Nascimento': '13/10/1970',\n",
       "  'Placa': 'RCZ-5F00',\n",
       "  'RENAVAM': 'NG0DL5K518ME9AVUV',\n",
       "  'randomdata': 1047},\n",
       " {'name': 'Maria Eduarda Aragão',\n",
       "  'Endereço': 'Ladeira Luiz Fernando Camargo, 40\\nMaria Virgínia\\n97539649 Azevedo do Sul / MT',\n",
       "  'Nome': 'Aurora Macedo',\n",
       "  'CPF': '841.270.936-50',\n",
       "  'Setor de Trabalho': 'Seguros',\n",
       "  'Faixa Salarial': 71139,\n",
       "  'Nascimento': '22/07/1977',\n",
       "  'Placa': 'XIN-2N73',\n",
       "  'RENAVAM': 'ZHSN6ANT4FW4MXEH6',\n",
       "  'randomdata': 1796},\n",
       " {'name': 'Júlia Peixoto',\n",
       "  'Endereço': 'Largo da Mota, 3\\nAlto Das Antenas\\n79582108 Abreu Verde / AP',\n",
       "  'Nome': 'Sr. Caio Castro',\n",
       "  'CPF': '701.423.958-97',\n",
       "  'Setor de Trabalho': 'Artes e Cultura',\n",
       "  'Faixa Salarial': 38162,\n",
       "  'Nascimento': '03/05/1973',\n",
       "  'Placa': 'VJU-7N64',\n",
       "  'RENAVAM': '2CBJMLBF4JCX3FYXD',\n",
       "  'randomdata': 1369},\n",
       " {'name': 'Maria Eduarda Campos',\n",
       "  'Endereço': 'Alameda de Aragão, 85\\nSão Vicente\\n05157865 Gomes / ES',\n",
       "  'Nome': 'Pedro Ferreira',\n",
       "  'CPF': '369.840.751-57',\n",
       "  'Setor de Trabalho': 'Finanças',\n",
       "  'Faixa Salarial': 100505,\n",
       "  'Nascimento': '26/07/1966',\n",
       "  'Placa': 'THT-1S55',\n",
       "  'RENAVAM': 'U9MUB3JX87ZKSUJAV',\n",
       "  'randomdata': 1450},\n",
       " {'name': 'Ana Julia Silva',\n",
       "  'Endereço': 'Passarela Sofia Vasconcelos, 1\\nVila Independencia 3ª Seção\\n24872684 Abreu da Serra / GO',\n",
       "  'Nome': 'Daniel Sampaio',\n",
       "  'CPF': '028.731.459-60',\n",
       "  'Setor de Trabalho': 'Hotelaria e Turismo',\n",
       "  'Faixa Salarial': 23308,\n",
       "  'Nascimento': '01/05/1987',\n",
       "  'Placa': 'ZJK-8J96',\n",
       "  'RENAVAM': 'W12AJT7KXU43GTMG8',\n",
       "  'randomdata': 1379},\n",
       " {'name': 'Maria Eduarda Cavalcanti',\n",
       "  'Endereço': 'Lagoa de Azevedo, 7\\nSanta Lúcia\\n97714863 Sampaio de Cardoso / MT',\n",
       "  'Nome': 'Emanuelly Cavalcante',\n",
       "  'CPF': '968.145.723-46',\n",
       "  'Setor de Trabalho': 'Serviços Financeiros',\n",
       "  'Faixa Salarial': 58576,\n",
       "  'Nascimento': '24/04/1972',\n",
       "  'Placa': 'ZNU-4P58',\n",
       "  'RENAVAM': '7NCC1LMA6EUHN8451',\n",
       "  'randomdata': 1878},\n",
       " {'name': 'Luiz Otávio Vargas',\n",
       "  'Endereço': 'Trevo Agatha Gonçalves, 13\\nNovo Das Industrias\\n94351-128 Sales / SE',\n",
       "  'Nome': 'Evelyn Silva',\n",
       "  'CPF': '734.156.920-43',\n",
       "  'Setor de Trabalho': 'Petróleo e Gás',\n",
       "  'Faixa Salarial': 184084,\n",
       "  'Nascimento': '15/07/1972',\n",
       "  'Placa': 'NPF-1G34',\n",
       "  'RENAVAM': 'UVRMFH6Z1J1HB8RWS',\n",
       "  'randomdata': 1894},\n",
       " {'name': 'Sophia Nogueira',\n",
       "  'Endereço': 'Sítio Théo Pereira, 49\\nVila Cloris\\n97514190 Correia / GO',\n",
       "  'Nome': 'Gabriela Albuquerque',\n",
       "  'CPF': '213.079.648-69',\n",
       "  'Setor de Trabalho': 'Serviços Jurídicos',\n",
       "  'Faixa Salarial': 132963,\n",
       "  'Nascimento': '16/06/1989',\n",
       "  'Placa': 'LQQ-3Z42',\n",
       "  'RENAVAM': '8TBRAG9X23NTS66S8',\n",
       "  'randomdata': 1129},\n",
       " {'name': 'Sr. João da Cruz',\n",
       "  'Endereço': 'Vila de Cassiano, 8\\nUnidas\\n10995-874 Pires de Goiás / AC',\n",
       "  'Nome': 'Brenda Fogaça',\n",
       "  'CPF': '352.849.176-00',\n",
       "  'Setor de Trabalho': 'Mineração',\n",
       "  'Faixa Salarial': 153797,\n",
       "  'Nascimento': '21/02/2004',\n",
       "  'Placa': 'HQN-0V30',\n",
       "  'RENAVAM': 'YALRBCNC51RJGATH3',\n",
       "  'randomdata': 1153},\n",
       " {'name': 'Heloisa Machado',\n",
       "  'Endereço': 'Estação Vitória Borges, 47\\nEymard\\n87509168 Pimenta do Campo / SC',\n",
       "  'Nome': 'Manuella Abreu',\n",
       "  'CPF': '846.732.159-82',\n",
       "  'Setor de Trabalho': 'Finanças',\n",
       "  'Faixa Salarial': 161417,\n",
       "  'Nascimento': '21/01/1973',\n",
       "  'Placa': 'PTB-3W10',\n",
       "  'RENAVAM': 'J7R6TAXH5JHXB8SDF',\n",
       "  'randomdata': 1109}]"
      ]
     },
     "execution_count": 5,
     "metadata": {},
     "output_type": "execute_result"
    }
   ],
   "source": [
    "create_rows(10)"
   ]
  }
 ],
 "metadata": {
  "kernelspec": {
   "display_name": ".venv",
   "language": "python",
   "name": "python3"
  },
  "language_info": {
   "codemirror_mode": {
    "name": "ipython",
    "version": 3
   },
   "file_extension": ".py",
   "mimetype": "text/x-python",
   "name": "python",
   "nbconvert_exporter": "python",
   "pygments_lexer": "ipython3",
   "version": "3.11.11"
  }
 },
 "nbformat": 4,
 "nbformat_minor": 2
}

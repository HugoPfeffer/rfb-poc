{
  "nbformat": 4,
  "nbformat_minor": 0,
  "metadata": {
    "colab": {
      "provenance": [],
      "authorship_tag": "ABX9TyNWs1vUBhThxqzTUmxUo1rN",
      "include_colab_link": true
    },
    "kernelspec": {
      "name": "python3",
      "display_name": "Python 3"
    },
    "language_info": {
      "name": "python"
    }
  },
  "cells": [
    {
      "cell_type": "markdown",
      "metadata": {
        "id": "view-in-github",
        "colab_type": "text"
      },
      "source": [
        "<a href=\"https://colab.research.google.com/github/HugoPfeffer/rfb-poc/blob/main/model.ipynb\" target=\"_parent\"><img src=\"https://colab.research.google.com/assets/colab-badge.svg\" alt=\"Open In Colab\"/></a>"
      ]
    },
    {
      "cell_type": "code",
      "execution_count": 1,
      "metadata": {
        "colab": {
          "base_uri": "https://localhost:8080/"
        },
        "id": "xsYFGpT-U8pY",
        "outputId": "7d9e2849-a156-4104-a0f8-0dc72445463b"
      },
      "outputs": [
        {
          "output_type": "stream",
          "name": "stdout",
          "text": [
            "Requirement already satisfied: pandas in /usr/local/lib/python3.10/dist-packages (2.2.2)\n",
            "Requirement already satisfied: numpy>=1.22.4 in /usr/local/lib/python3.10/dist-packages (from pandas) (1.26.4)\n",
            "Requirement already satisfied: python-dateutil>=2.8.2 in /usr/local/lib/python3.10/dist-packages (from pandas) (2.8.2)\n",
            "Requirement already satisfied: pytz>=2020.1 in /usr/local/lib/python3.10/dist-packages (from pandas) (2024.2)\n",
            "Requirement already satisfied: tzdata>=2022.7 in /usr/local/lib/python3.10/dist-packages (from pandas) (2024.2)\n",
            "Requirement already satisfied: six>=1.5 in /usr/local/lib/python3.10/dist-packages (from python-dateutil>=2.8.2->pandas) (1.17.0)\n",
            "Requirement already satisfied: numpy in /usr/local/lib/python3.10/dist-packages (1.26.4)\n",
            "Requirement already satisfied: scikit-learn in /usr/local/lib/python3.10/dist-packages (1.6.0)\n",
            "Requirement already satisfied: numpy>=1.19.5 in /usr/local/lib/python3.10/dist-packages (from scikit-learn) (1.26.4)\n",
            "Requirement already satisfied: scipy>=1.6.0 in /usr/local/lib/python3.10/dist-packages (from scikit-learn) (1.13.1)\n",
            "Requirement already satisfied: joblib>=1.2.0 in /usr/local/lib/python3.10/dist-packages (from scikit-learn) (1.4.2)\n",
            "Requirement already satisfied: threadpoolctl>=3.1.0 in /usr/local/lib/python3.10/dist-packages (from scikit-learn) (3.5.0)\n"
          ]
        }
      ],
      "source": [
        "!pip install pandas\n",
        "!pip install numpy\n",
        "!pip install scikit-learn"
      ]
    },
    {
      "cell_type": "code",
      "source": [
        "import pandas as pd\n",
        "import numpy as np\n",
        "from sklearn.ensemble import RandomForestRegressor\n",
        "from sklearn.model_selection import RandomizedSearchCV\n",
        "from sklearn.metrics import mean_squared_error, r2_score, mean_absolute_error\n",
        "import warnings\n",
        "warnings.filterwarnings('ignore')"
      ],
      "metadata": {
        "id": "iYOPSGeZZ--M"
      },
      "execution_count": 13,
      "outputs": []
    },
    {
      "cell_type": "code",
      "source": [
        "class FraudDetectionModel:\n",
        "    def __init__(self):\n",
        "        self.model = None\n",
        "        self.best_params = None\n",
        "\n",
        "    def load_data(self):\n",
        "        \"\"\"Load training and test datasets\"\"\"\n",
        "        try:\n",
        "            train_data = pd.read_csv('datasets/train_data.csv')\n",
        "            test_data = pd.read_csv('datasets/test_data.csv')\n",
        "\n",
        "            # Define features and target\n",
        "            features = ['income', 'filing_status', 'state', 'deductions', 'tax_paid', 'refund_claimed']\n",
        "            target = 'compliance_score'  # Assuming this is your target variable\n",
        "\n",
        "            # Split into features and target\n",
        "            X_train = train_data[features]\n",
        "            y_train = train_data[target]\n",
        "            X_test = test_data[features]\n",
        "            y_test = test_data[target]\n",
        "\n",
        "            # Handle categorical variables (one-hot encoding for 'filing_status' and 'state')\n",
        "            X_train = pd.get_dummies(X_train, columns=['filing_status', 'state'])\n",
        "            X_test = pd.get_dummies(X_test, columns=['filing_status', 'state'])\n",
        "\n",
        "            # Ensure X_train and X_test have the same columns\n",
        "            missing_cols = set(X_train.columns) - set(X_test.columns)\n",
        "            for col in missing_cols:\n",
        "                X_test[col] = 0\n",
        "            X_test = X_test[X_train.columns]\n",
        "\n",
        "            return X_train, X_test, y_train, y_test\n",
        "        except Exception as e:\n",
        "            print(f\"Error loading data: {str(e)}\")\n",
        "            return None\n",
        "\n",
        "    def tune_hyperparameters(self, X_train, y_train):\n",
        "        \"\"\"Perform hyperparameter tuning using RandomizedSearchCV\"\"\"\n",
        "        # Define the parameter grid for regression\n",
        "        param_grid = {\n",
        "            'n_estimators': [100, 200, 300, 400, 500],\n",
        "            'max_depth': [10, 20, 30, 40, 50, None],\n",
        "            'min_samples_split': [2, 5, 10],\n",
        "            'min_samples_leaf': [1, 2, 4],\n",
        "            'max_features': ['auto', 'sqrt']\n",
        "            # Removed class_weight as it's not used in regression\n",
        "        }\n",
        "\n",
        "        # Initialize Random Forest Regressor\n",
        "        rf = RandomForestRegressor(random_state=42)\n",
        "\n",
        "        # Perform RandomizedSearchCV\n",
        "        random_search = RandomizedSearchCV(\n",
        "            estimator=rf,\n",
        "            param_distributions=param_grid,\n",
        "            n_iter=20,\n",
        "            cv=3,\n",
        "            scoring='neg_mean_squared_error',  # Changed scoring metric for regression\n",
        "            n_jobs=-1,\n",
        "            random_state=42\n",
        "        )\n",
        "\n",
        "        # Fit the random search\n",
        "        random_search.fit(X_train, y_train)\n",
        "        self.best_params = random_search.best_params_\n",
        "        return random_search.best_estimator_\n",
        "\n",
        "    def train_model(self, X_train, y_train):\n",
        "        \"\"\"Train the Random Forest model with best parameters\"\"\"\n",
        "        print(\"Training model with best parameters:\", self.best_params)\n",
        "        self.model = RandomForestRegressor(**self.best_params, random_state=42)\n",
        "        self.model.fit(X_train, y_train)\n",
        "\n",
        "    def evaluate_model(self, X_test, y_test):\n",
        "        \"\"\"Evaluate the regression model performance\"\"\"\n",
        "        if self.model is None:\n",
        "            print(\"Model not trained yet!\")\n",
        "            return\n",
        "\n",
        "        # Make predictions\n",
        "        y_pred = self.model.predict(X_test)\n",
        "\n",
        "        # Calculate regression metrics\n",
        "        mse = mean_squared_error(y_test, y_pred)\n",
        "        rmse = np.sqrt(mse)\n",
        "        mae = mean_absolute_error(y_test, y_pred)\n",
        "        r2 = r2_score(y_test, y_pred)\n",
        "\n",
        "        # Print summary metrics\n",
        "        print(\"\\nRegression Metrics:\")\n",
        "        print(f\"Mean Squared Error: {mse:.4f}\")\n",
        "        print(f\"Root Mean Squared Error: {rmse:.4f}\")\n",
        "        print(f\"Mean Absolute Error: {mae:.4f}\")\n",
        "        print(f\"R² Score: {r2:.4f}\")\n",
        "\n",
        "        return mse, rmse, mae, r2\n"
      ],
      "metadata": {
        "id": "UgxpXFm6Z_tn"
      },
      "execution_count": 16,
      "outputs": []
    },
    {
      "cell_type": "code",
      "source": [
        "def main():\n",
        "    # Initialize model\n",
        "    fraud_model = FraudDetectionModel()\n",
        "\n",
        "    # Load data\n",
        "    print(\"Loading data...\")\n",
        "    data = fraud_model.load_data()\n",
        "    if data is None:\n",
        "        return\n",
        "    X_train, X_test, y_train, y_test = data\n",
        "\n",
        "    # Tune hyperparameters\n",
        "    print(\"\\nTuning hyperparameters...\")\n",
        "    best_model = fraud_model.tune_hyperparameters(X_train, y_train)\n",
        "\n",
        "    # Train model\n",
        "    print(\"\\nTraining model...\")\n",
        "    fraud_model.train_model(X_train, y_train)\n",
        "\n",
        "    # Evaluate model\n",
        "    print(\"\\nEvaluating model...\")\n",
        "    fraud_model.evaluate_model(X_test, y_test)\n"
      ],
      "metadata": {
        "id": "vwLA2hLHaCdk"
      },
      "execution_count": 15,
      "outputs": []
    },
    {
      "cell_type": "code",
      "source": [
        "if __name__ == \"__main__\":\n",
        "    main()"
      ],
      "metadata": {
        "colab": {
          "base_uri": "https://localhost:8080/"
        },
        "id": "ouItm0kGaEyk",
        "outputId": "8893fed8-a591-4192-99f9-3ebb0fd15997"
      },
      "execution_count": 17,
      "outputs": [
        {
          "output_type": "stream",
          "name": "stdout",
          "text": [
            "Loading data...\n",
            "\n",
            "Tuning hyperparameters...\n",
            "\n",
            "Training model...\n",
            "Training model with best parameters: {'n_estimators': 400, 'min_samples_split': 10, 'min_samples_leaf': 2, 'max_features': 'sqrt', 'max_depth': 10}\n",
            "\n",
            "Evaluating model...\n",
            "\n",
            "Regression Metrics:\n",
            "Mean Squared Error: 0.9844\n",
            "Root Mean Squared Error: 0.9922\n",
            "Mean Absolute Error: 0.7401\n",
            "R² Score: -0.0380\n"
          ]
        }
      ]
    }
  ]
}
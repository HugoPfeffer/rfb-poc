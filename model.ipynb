{
  "nbformat": 4,
  "nbformat_minor": 0,
  "metadata": {
    "colab": {
      "provenance": [],
      "authorship_tag": "ABX9TyN01gEUvh0QcWB8w2/NuSfh",
      "include_colab_link": true
    },
    "kernelspec": {
      "name": "python3",
      "display_name": "Python 3"
    },
    "language_info": {
      "name": "python"
    }
  },
  "cells": [
    {
      "cell_type": "markdown",
      "metadata": {
        "id": "view-in-github",
        "colab_type": "text"
      },
      "source": [
        "<a href=\"https://colab.research.google.com/github/HugoPfeffer/rfb-poc/blob/main/model.ipynb\" target=\"_parent\"><img src=\"https://colab.research.google.com/assets/colab-badge.svg\" alt=\"Open In Colab\"/></a>"
      ]
    },
    {
      "cell_type": "code",
      "execution_count": 1,
      "metadata": {
        "colab": {
          "base_uri": "https://localhost:8080/"
        },
        "id": "xsYFGpT-U8pY",
        "outputId": "7d9e2849-a156-4104-a0f8-0dc72445463b"
      },
      "outputs": [
        {
          "output_type": "stream",
          "name": "stdout",
          "text": [
            "Requirement already satisfied: pandas in /usr/local/lib/python3.10/dist-packages (2.2.2)\n",
            "Requirement already satisfied: numpy>=1.22.4 in /usr/local/lib/python3.10/dist-packages (from pandas) (1.26.4)\n",
            "Requirement already satisfied: python-dateutil>=2.8.2 in /usr/local/lib/python3.10/dist-packages (from pandas) (2.8.2)\n",
            "Requirement already satisfied: pytz>=2020.1 in /usr/local/lib/python3.10/dist-packages (from pandas) (2024.2)\n",
            "Requirement already satisfied: tzdata>=2022.7 in /usr/local/lib/python3.10/dist-packages (from pandas) (2024.2)\n",
            "Requirement already satisfied: six>=1.5 in /usr/local/lib/python3.10/dist-packages (from python-dateutil>=2.8.2->pandas) (1.17.0)\n",
            "Requirement already satisfied: numpy in /usr/local/lib/python3.10/dist-packages (1.26.4)\n",
            "Requirement already satisfied: scikit-learn in /usr/local/lib/python3.10/dist-packages (1.6.0)\n",
            "Requirement already satisfied: numpy>=1.19.5 in /usr/local/lib/python3.10/dist-packages (from scikit-learn) (1.26.4)\n",
            "Requirement already satisfied: scipy>=1.6.0 in /usr/local/lib/python3.10/dist-packages (from scikit-learn) (1.13.1)\n",
            "Requirement already satisfied: joblib>=1.2.0 in /usr/local/lib/python3.10/dist-packages (from scikit-learn) (1.4.2)\n",
            "Requirement already satisfied: threadpoolctl>=3.1.0 in /usr/local/lib/python3.10/dist-packages (from scikit-learn) (3.5.0)\n"
          ]
        }
      ],
      "source": [
        "!pip install pandas\n",
        "!pip install numpy\n",
        "!pip install scikit-learn"
      ]
    },
    {
      "cell_type": "code",
      "source": [
        "import pandas as pd\n",
        "import numpy as np\n",
        "from sklearn.ensemble import RandomForestClassifier\n",
        "from sklearn.model_selection import RandomizedSearchCV\n",
        "from sklearn.metrics import classification_report, precision_recall_fscore_support\n",
        "import warnings\n",
        "warnings.filterwarnings('ignore')"
      ],
      "metadata": {
        "id": "iYOPSGeZZ--M"
      },
      "execution_count": 2,
      "outputs": []
    },
    {
      "cell_type": "code",
      "source": [
        "class FraudDetectionModel:\n",
        "    def __init__(self):\n",
        "        self.model = None\n",
        "        self.best_params = None\n",
        "\n",
        "    def load_data(self):\n",
        "        \"\"\"Load training and test datasets\"\"\"\n",
        "        try:\n",
        "            train_data = pd.read_csv('datasets/train_data.csv')\n",
        "            test_data = pd.read_csv('datasets/test_data.csv')\n",
        "\n",
        "            # Assuming the target variable is named 'fraud' or 'target'\n",
        "            # Modify these according to your actual column names\n",
        "            X_train = train_data.drop('target', axis=1)\n",
        "            y_train = train_data['target']\n",
        "            X_test = test_data.drop('target', axis=1)\n",
        "            y_test = test_data['target']\n",
        "\n",
        "            return X_train, X_test, y_train, y_test\n",
        "        except Exception as e:\n",
        "            print(f\"Error loading data: {str(e)}\")\n",
        "            return None\n",
        "\n",
        "    def tune_hyperparameters(self, X_train, y_train):\n",
        "        \"\"\"Perform hyperparameter tuning using RandomizedSearchCV\"\"\"\n",
        "        # Define the parameter grid\n",
        "        param_grid = {\n",
        "            'n_estimators': [100, 200, 300, 400, 500],\n",
        "            'max_depth': [10, 20, 30, 40, 50, None],\n",
        "            'min_samples_split': [2, 5, 10],\n",
        "            'min_samples_leaf': [1, 2, 4],\n",
        "            'max_features': ['auto', 'sqrt'],\n",
        "            'class_weight': ['balanced', 'balanced_subsample', None]\n",
        "        }\n",
        "\n",
        "        # Initialize Random Forest\n",
        "        rf = RandomForestClassifier(random_state=42)\n",
        "\n",
        "        # Perform RandomizedSearchCV\n",
        "        random_search = RandomizedSearchCV(\n",
        "            estimator=rf,\n",
        "            param_distributions=param_grid,\n",
        "            n_iter=20,\n",
        "            cv=3,\n",
        "            scoring='f1',\n",
        "            n_jobs=-1,\n",
        "            random_state=42\n",
        "        )\n",
        "\n",
        "        # Fit the random search\n",
        "        random_search.fit(X_train, y_train)\n",
        "        self.best_params = random_search.best_params_\n",
        "        return random_search.best_estimator_\n",
        "\n",
        "    def train_model(self, X_train, y_train):\n",
        "        \"\"\"Train the Random Forest model with best parameters\"\"\"\n",
        "        print(\"Training model with best parameters:\", self.best_params)\n",
        "        self.model = RandomForestClassifier(**self.best_params, random_state=42)\n",
        "        self.model.fit(X_train, y_train)\n",
        "\n",
        "    def evaluate_model(self, X_test, y_test):\n",
        "        \"\"\"Evaluate the model performance\"\"\"\n",
        "        if self.model is None:\n",
        "            print(\"Model not trained yet!\")\n",
        "            return\n",
        "\n",
        "        # Make predictions\n",
        "        y_pred = self.model.predict(X_test)\n",
        "\n",
        "        # Calculate metrics\n",
        "        precision, recall, f1, _ = precision_recall_fscore_support(y_test, y_pred, average='binary')\n",
        "\n",
        "        # Print detailed classification report\n",
        "        print(\"\\nClassification Report:\")\n",
        "        print(classification_report(y_test, y_pred))\n",
        "\n",
        "        # Print summary metrics\n",
        "        print(\"\\nSummary Metrics:\")\n",
        "        print(f\"Precision: {precision:.4f}\")\n",
        "        print(f\"Recall: {recall:.4f}\")\n",
        "        print(f\"F1-Score: {f1:.4f}\")\n",
        "\n",
        "        return precision, recall, f1\n"
      ],
      "metadata": {
        "id": "UgxpXFm6Z_tn"
      },
      "execution_count": 3,
      "outputs": []
    },
    {
      "cell_type": "code",
      "source": [
        "def main():\n",
        "    # Initialize model\n",
        "    fraud_model = FraudDetectionModel()\n",
        "\n",
        "    # Load data\n",
        "    print(\"Loading data...\")\n",
        "    data = fraud_model.load_data()\n",
        "    if data is None:\n",
        "        return\n",
        "    X_train, X_test, y_train, y_test = data\n",
        "\n",
        "    # Tune hyperparameters\n",
        "    print(\"\\nTuning hyperparameters...\")\n",
        "    best_model = fraud_model.tune_hyperparameters(X_train, y_train)\n",
        "\n",
        "    # Train model\n",
        "    print(\"\\nTraining model...\")\n",
        "    fraud_model.train_model(X_train, y_train)\n",
        "\n",
        "    # Evaluate model\n",
        "    print(\"\\nEvaluating model...\")\n",
        "    fraud_model.evaluate_model(X_test, y_test)"
      ],
      "metadata": {
        "id": "vwLA2hLHaCdk"
      },
      "execution_count": 4,
      "outputs": []
    },
    {
      "cell_type": "code",
      "source": [
        "if __name__ == \"__main__\":\n",
        "    main()"
      ],
      "metadata": {
        "colab": {
          "base_uri": "https://localhost:8080/"
        },
        "id": "ouItm0kGaEyk",
        "outputId": "9e0946cb-cfcc-4dc2-a43e-a992809ff89d"
      },
      "execution_count": 5,
      "outputs": [
        {
          "output_type": "stream",
          "name": "stdout",
          "text": [
            "Loading data...\n",
            "Error loading data: \"['target'] not found in axis\"\n"
          ]
        }
      ]
    }
  ]
}
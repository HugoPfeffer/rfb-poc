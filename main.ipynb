{
 "cells": [
  {
   "cell_type": "code",
   "execution_count": 1,
   "metadata": {},
   "outputs": [],
   "source": [
    "from faker import Faker\n",
    "from industriaProvider import industriaProvider\n",
    "import pandas as pd\n",
    "import random\n",
    "import numpy as np\n",
    "from scipy.stats.mstats import winsorize\n",
    "\n"
   ]
  },
  {
   "cell_type": "code",
   "execution_count": 2,
   "metadata": {},
   "outputs": [],
   "source": [
    "fake = Faker('pt_BR')"
   ]
  },
  {
   "cell_type": "code",
   "execution_count": 3,
   "metadata": {},
   "outputs": [],
   "source": [
    "fake.add_provider(industriaProvider)"
   ]
  },
  {
   "cell_type": "code",
   "execution_count": 4,
   "metadata": {},
   "outputs": [],
   "source": [
    "def create_rows(num=1):\n",
    "    output = [{\"name\":fake.name(),\n",
    "                \"Endereço\":fake.address(),\n",
    "                \"Nome\":fake.name(),\n",
    "                \"CPF\":fake.cpf(),\n",
    "                # \"Setor de Trabalho\":(setor := fake.industria()),\n",
    "                \"Faixa Salarial\":fake.range_salarial(),\n",
    "                \"Nascimento\":fake.date_of_birth(minimum_age=18, maximum_age=65).strftime('%d/%m/%Y'),\n",
    "                \"Placa\":fake.license_plate(),\n",
    "                \"RENAVAM\":fake.vin(),\n",
    "                \"randomdata\":random.randint(1000,2000)} for x in range(num)]\n",
    "    return output"
   ]
  },
  {
   "cell_type": "code",
   "execution_count": 121,
   "metadata": {},
   "outputs": [
    {
     "data": {
      "text/plain": [
       "[{'name': 'Lívia Abreu',\n",
       "  'Endereço': 'Condomínio de Nascimento\\nJoão Pinheiro\\n10192193 Cavalcante das Pedras / MG',\n",
       "  'Nome': 'Augusto Pereira',\n",
       "  'CPF': '476.025.891-49',\n",
       "  'Setor de Trabalho': 'Indústria Manufatureira',\n",
       "  'Faixa Salarial': '3000-8000',\n",
       "  'Nascimento': '18/07/1961',\n",
       "  'Placa': 'FGC-5Y77',\n",
       "  'RENAVAM': 'MLHAJ2PM4DD87FZAC',\n",
       "  'randomdata': 1677},\n",
       " {'name': 'Catarina Viana',\n",
       "  'Endereço': 'Vale Casa Grande, 278\\nVirgínia\\n13346-891 Fogaça Verde / AC',\n",
       "  'Nome': 'Hellena Monteiro',\n",
       "  'CPF': '732.695.801-77',\n",
       "  'Setor de Trabalho': 'Serviços Financeiros',\n",
       "  'Faixa Salarial': '6000-12000',\n",
       "  'Nascimento': '09/06/1969',\n",
       "  'Placa': 'RNC-1U17',\n",
       "  'RENAVAM': 'Y0GC3L1TX98MPNDK7',\n",
       "  'randomdata': 1866},\n",
       " {'name': 'Vinicius Rocha',\n",
       "  'Endereço': 'Quadra Jade Duarte, 6\\nVitoria\\n24154284 Borges / ES',\n",
       "  'Nome': 'Dom Castro',\n",
       "  'CPF': '124.379.605-70',\n",
       "  'Setor de Trabalho': 'Consultoria Empresarial',\n",
       "  'Faixa Salarial': '7000-14000',\n",
       "  'Nascimento': '26/06/1979',\n",
       "  'Placa': 'ABB-5D93',\n",
       "  'RENAVAM': 'MT8U6MM55X84GS5YF',\n",
       "  'randomdata': 1640},\n",
       " {'name': 'Anthony Silva',\n",
       "  'Endereço': 'Esplanada de Pires, 46\\nBarreiro\\n01596-957 Freitas / MT',\n",
       "  'Nome': 'Brayan Peixoto',\n",
       "  'CPF': '680.931.275-77',\n",
       "  'Setor de Trabalho': 'Esportes e Recreação',\n",
       "  'Faixa Salarial': '2500-6000',\n",
       "  'Nascimento': '27/02/1996',\n",
       "  'Placa': 'ECV-9B07',\n",
       "  'RENAVAM': 'MUVL7X2J2XCEFF1VF',\n",
       "  'randomdata': 1927},\n",
       " {'name': 'Sr. Theodoro Pereira',\n",
       "  'Endereço': 'Estrada Luana Pinto, 828\\nCentro\\n17080288 Leão / MA',\n",
       "  'Nome': 'Joana Guerra',\n",
       "  'CPF': '297.614.850-30',\n",
       "  'Setor de Trabalho': 'Aeroespacial',\n",
       "  'Faixa Salarial': '8000-15000',\n",
       "  'Nascimento': '03/02/1997',\n",
       "  'Placa': 'NAQ-6T47',\n",
       "  'RENAVAM': 'NKZ1K1DH67ZLS1SBX',\n",
       "  'randomdata': 1464},\n",
       " {'name': 'Lucas Gabriel Oliveira',\n",
       "  'Endereço': 'Colônia de da Mota, 65\\nConjunto Providencia\\n43777-008 da Rosa / PE',\n",
       "  'Nome': 'Kevin Fernandes',\n",
       "  'CPF': '321.864.795-91',\n",
       "  'Setor de Trabalho': 'Hotelaria e Turismo',\n",
       "  'Faixa Salarial': '2500-6000',\n",
       "  'Nascimento': '16/08/1960',\n",
       "  'Placa': 'CYK-8G84',\n",
       "  'RENAVAM': '49GLDDTU9S65URZG9',\n",
       "  'randomdata': 1337},\n",
       " {'name': 'Ravi Alves',\n",
       "  'Endereço': 'Sítio de Albuquerque, 66\\nAcaiaca\\n85685-299 Nunes Paulista / BA',\n",
       "  'Nome': 'Valentina Casa Grande',\n",
       "  'CPF': '614.358.907-01',\n",
       "  'Setor de Trabalho': 'Farmacêutica',\n",
       "  'Faixa Salarial': '5000-11000',\n",
       "  'Nascimento': '03/02/1964',\n",
       "  'Placa': 'DUI-2K63',\n",
       "  'RENAVAM': '0UL5R3J47X9AG9BL5',\n",
       "  'randomdata': 1869},\n",
       " {'name': 'Pedro Miguel Sales',\n",
       "  'Endereço': 'Esplanada de Leão\\nCoqueiros\\n03134-710 Moreira de Pereira / TO',\n",
       "  'Nome': 'Ana Júlia Ferreira',\n",
       "  'CPF': '187.359.642-19',\n",
       "  'Setor de Trabalho': 'Consultoria Empresarial',\n",
       "  'Faixa Salarial': '7000-14000',\n",
       "  'Nascimento': '26/03/1998',\n",
       "  'Placa': 'PVT-1X72',\n",
       "  'RENAVAM': 'Z7X3X2WPXXWXU6MLY',\n",
       "  'randomdata': 1934},\n",
       " {'name': 'Cauã Macedo',\n",
       "  'Endereço': 'Área de Abreu\\nBraúnas\\n46917351 Cardoso da Prata / GO',\n",
       "  'Nome': 'Maria Helena Moreira',\n",
       "  'CPF': '302.657.948-38',\n",
       "  'Setor de Trabalho': 'Recursos Humanos',\n",
       "  'Faixa Salarial': '4000-9000',\n",
       "  'Nascimento': '02/12/1986',\n",
       "  'Placa': 'MWD-5O39',\n",
       "  'RENAVAM': 'ASCEYGYR5J2Y55U0G',\n",
       "  'randomdata': 1868},\n",
       " {'name': 'Dr. Samuel Novais',\n",
       "  'Endereço': 'Pátio de da Paz, 72\\nLindéia\\n32243-069 Jesus / PA',\n",
       "  'Nome': 'Sr. Francisco Cirino',\n",
       "  'CPF': '680.315.942-60',\n",
       "  'Setor de Trabalho': 'Finanças',\n",
       "  'Faixa Salarial': '7000-14000',\n",
       "  'Nascimento': '27/03/2000',\n",
       "  'Placa': 'EVD-1Q02',\n",
       "  'RENAVAM': 'LE24AXFJ9RGDYW9KB',\n",
       "  'randomdata': 1601}]"
      ]
     },
     "execution_count": 121,
     "metadata": {},
     "output_type": "execute_result"
    }
   ],
   "source": [
    "create_rows(10)"
   ]
  }
 ],
 "metadata": {
  "kernelspec": {
   "display_name": ".venv",
   "language": "python",
   "name": "python3"
  },
  "language_info": {
   "codemirror_mode": {
    "name": "ipython",
    "version": 3
   },
   "file_extension": ".py",
   "mimetype": "text/x-python",
   "name": "python",
   "nbconvert_exporter": "python",
   "pygments_lexer": "ipython3",
   "version": "3.11.11"
  }
 },
 "nbformat": 4,
 "nbformat_minor": 2
}
